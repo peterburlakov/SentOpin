{
 "cells": [
  {
   "cell_type": "code",
   "execution_count": 5,
   "id": "d1b9eea9",
   "metadata": {},
   "outputs": [],
   "source": [
    "import pandas as pd\n",
    "import numpy as np\n",
    "import re\n",
    "from collections import Counter\n",
    "import plotly.express as px  # (version 4.7.0)\n",
    "import plotly.graph_objects as go\n",
    "\n",
    "import dash  # (version 1.12.0) pip install dash\n",
    "import dash_core_components as dcc\n",
    "import dash_html_components as html\n",
    "from dash.dependencies import Input, Output\n",
    "\n",
    "app = dash.Dash(__name__)"
   ]
  },
  {
   "cell_type": "code",
   "execution_count": 6,
   "id": "2380068f",
   "metadata": {},
   "outputs": [],
   "source": [
    "df = pd.read_csv('./data/reviews.csv', index_col=0)\n",
    "df['entities'] = df.expertai_entities.apply(lambda x: [i for i in re.sub('[\\]\\\"  \\[\\,]','', x).split(\"'\") if i!=''])\n",
    "df['items'] = df['expertai_sentiment.items'].apply(lambda x: [i for i in re.sub('[\\]\\\"  \\[\\,]','', x).split(\"'\") if i!=''])\n",
    "df['phrases'] = df['expertai_mainPhrases'].apply(lambda x: [i for i in re.sub('[\\]\\\"\\[\\,]','', x).split(\"'\") if i!=''])\n",
    "df['lemmas'] = df['expertai_mainLemmas'].apply(lambda x: [i for i in re.sub('[\\]\\\"\\[\\,]','', x).split(\"'\") if i!=''])\n",
    "df['isAgent'] = df.place_name.apply(lambda x: True if 'Agent' in x else False)\n",
    "\n",
    "\n",
    "states = sorted(np.append(df.place_state.unique().tolist(),'All'))\n"
   ]
  },
  {
   "cell_type": "code",
   "execution_count": 7,
   "id": "63a0708b",
   "metadata": {},
   "outputs": [],
   "source": [
    "app.layout = html.Div([\n",
    "\n",
    "    html.H1(\"Web Application Dashboards with Dash\", style={'text-align': 'center'}),\n",
    "    html.Div([\n",
    "        dcc.Dropdown(id=\"slct_state\",\n",
    "                     options=[{'label':state, 'value':state} for state in states],\n",
    "                     multi=False,\n",
    "                     value='All',\n",
    "                     style={'width': \"40%\"}\n",
    "                     ),\n",
    "        dcc.RadioItems(\n",
    "                    id='agent_type',\n",
    "                    options=[{'label': str(i), 'value': i} for i in [True, False, 'All']],\n",
    "                    value='All',\n",
    "#                     labelClassName='isAgent',\n",
    "    #                 labelStyle={'display': 'inline-block'}\n",
    "                ) \n",
    "    ]),\n",
    "    \n",
    "    html.Div([\n",
    "        dcc.Dropdown(id=\"slct_type\",\n",
    "                     options=[{'label':state, 'value':state} for state in ['overall', 'service', 'commercial', 'pricing', 'people']],\n",
    "                     multi=False,\n",
    "                     value='overall',\n",
    "                     style={'width': \"40%\"}\n",
    "                     ),\n",
    "    ]),\n",
    "    html.Div(id='output_container', children=[]),\n",
    "    html.Br(),\n",
    "\n",
    "    dcc.Graph(id='my_bee_map', figure={})\n",
    "\n",
    "])\n",
    "\n",
    "\n",
    "@app.callback(\n",
    "    [Output(component_id='output_container', component_property='children'),\n",
    "     Output(component_id='my_bee_map', component_property='figure')],\n",
    "    [Input(component_id='slct_state', component_property='value'),\n",
    "     Input(component_id='agent_type', component_property='value'),\n",
    "     Input(component_id='slct_type', component_property='value')\n",
    "    ]\n",
    ")\n",
    "\n",
    "\n",
    "def update_graph(slct_state, agent_type, slct_type):\n",
    "    \n",
    "    def get_num_items(x, value_to_find:str):\n",
    "        idx = [index+1 for index, value in enumerate(x) if value == value_to_find]\n",
    "        return str(dict(Counter(np.array(x)[idx])))\n",
    "\n",
    "#     print(slct_type)\n",
    "#     print(type(slct_type))       \n",
    "\n",
    "    dff = df.copy()\n",
    "    \n",
    "    if slct_type != 'overall':\n",
    "        dff[slct_type] = dff['text'].apply(lambda x: True if slct_type in x else False)\n",
    "        dff = dff[dff[slct_type] == True]\n",
    "\n",
    "    \n",
    "    df_grouped = dff\\\n",
    "    .groupby(['place_id', 'place_state', 'place_formatted_address', 'latitude', 'longitude', 'isAgent'], as_index = False)\\\n",
    "    .agg({\n",
    "        'items': 'sum', \n",
    "        'entities': 'sum', \n",
    "        'phrases': 'sum',\n",
    "        'rating':'mean', \n",
    "        'sentiment.overall':'mean',\n",
    "        'expertai_classification':'count'\n",
    "    })\n",
    "\n",
    "    df_grouped['names'] = df_grouped.entities.apply(get_num_items, args={'NPH'})\n",
    "\n",
    "    if slct_state != 'All':\n",
    "        df_grouped = df_grouped[df_grouped[\"place_state\"] == slct_state]\n",
    "    \n",
    "    if agent_type != 'All':\n",
    "        df_grouped = df_grouped[df_grouped[\"isAgent\"] == agent_type]\n",
    "        \n",
    "   \n",
    "    mean_rating = round(df_grouped.rating.mean(), 2)\n",
    "    mean_sentiment = round(df_grouped['sentiment.overall'].mean(), 2)\n",
    "    \n",
    "    container = f\"The state mean rating: {mean_rating}, mean sentiment: {mean_sentiment}\"\n",
    "    \n",
    "    fig = px.scatter_mapbox(df_grouped, lat=\"latitude\", lon=\"longitude\", color=\"sentiment.overall\", size='rating',\n",
    "            color_continuous_scale=px.colors.sequential.Viridis,\n",
    "            size_max=10, zoom=2,\n",
    "            text='names',\n",
    "            mapbox_style = 'carto-positron',\n",
    "            hover_name = 'place_formatted_address',\n",
    "            hover_data=[\"names\", \"rating\"],\n",
    "    )\n",
    "    return container, fig\n"
   ]
  },
  {
   "cell_type": "code",
   "execution_count": 8,
   "id": "c4fe7508",
   "metadata": {},
   "outputs": [
    {
     "name": "stdout",
     "output_type": "stream",
     "text": [
      "Dash is running on http://127.0.0.1:8050/\n",
      "\n",
      "Dash is running on http://127.0.0.1:8050/\n",
      "\n",
      " * Serving Flask app '__main__' (lazy loading)\n",
      " * Environment: production\n",
      "\u001b[31m   WARNING: This is a development server. Do not use it in a production deployment.\u001b[0m\n",
      "\u001b[2m   Use a production WSGI server instead.\u001b[0m\n",
      " * Debug mode: off\n"
     ]
    },
    {
     "name": "stderr",
     "output_type": "stream",
     "text": [
      " * Running on http://127.0.0.1:8050/ (Press CTRL+C to quit)\n"
     ]
    }
   ],
   "source": [
    "if __name__ == '__main__':\n",
    "    app.run_server(debug=False, use_reloader=False)\n"
   ]
  },
  {
   "cell_type": "code",
   "execution_count": null,
   "id": "a15fc95e",
   "metadata": {},
   "outputs": [],
   "source": []
  },
  {
   "cell_type": "code",
   "execution_count": null,
   "id": "0119d1f5",
   "metadata": {},
   "outputs": [],
   "source": []
  }
 ],
 "metadata": {
  "kernelspec": {
   "display_name": "Python 3",
   "language": "python",
   "name": "python3"
  },
  "language_info": {
   "codemirror_mode": {
    "name": "ipython",
    "version": 3
   },
   "file_extension": ".py",
   "mimetype": "text/x-python",
   "name": "python",
   "nbconvert_exporter": "python",
   "pygments_lexer": "ipython3",
   "version": "3.7.10"
  }
 },
 "nbformat": 4,
 "nbformat_minor": 5
}
